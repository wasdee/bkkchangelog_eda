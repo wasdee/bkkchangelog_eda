{
 "cells": [
  {
   "cell_type": "code",
   "execution_count": 1,
   "metadata": {},
   "outputs": [
    {
     "name": "stdout",
     "output_type": "stream",
     "text": [
      "Data successfully imported to MongoDB\n"
     ]
    }
   ],
   "source": [
    "import json\n",
    "import pymongo\n",
    "from pymongo import MongoClient\n",
    "import os\n",
    "\n",
    "# Replace with your MongoDB connection string\n",
    "mongo_uri = os.getenv(\"MONGO_URI\")\n",
    "client = MongoClient(mongo_uri)\n",
    "\n",
    "# Replace with your database and collection names\n",
    "db = client['metabase']\n",
    "collection = db['bkkchangelog']\n",
    "\n",
    "# Replace with your .ndjson file name\n",
    "file_name = \"datasets/backup.ndjson\"\n",
    "\n",
    "with open(file_name, 'r') as f:\n",
    "    for line in f:\n",
    "        doc = json.loads(line)\n",
    "        collection.insert_one(doc)\n",
    "\n",
    "print(\"Data successfully imported to MongoDB\")"
   ]
  }
 ],
 "metadata": {
  "kernelspec": {
   "display_name": "bkkchangelog_eda",
   "language": "python",
   "name": "python3"
  },
  "language_info": {
   "codemirror_mode": {
    "name": "ipython",
    "version": 3
   },
   "file_extension": ".py",
   "mimetype": "text/x-python",
   "name": "python",
   "nbconvert_exporter": "python",
   "pygments_lexer": "ipython3",
   "version": "3.10.9"
  },
  "orig_nbformat": 4
 },
 "nbformat": 4,
 "nbformat_minor": 2
}
